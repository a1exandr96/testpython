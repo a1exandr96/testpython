{
  "nbformat": 4,
  "nbformat_minor": 0,
  "metadata": {
    "colab": {
      "provenance": []
    },
    "kernelspec": {
      "name": "python3",
      "display_name": "Python 3"
    },
    "language_info": {
      "name": "python"
    }
  },
  "cells": [
    {
      "cell_type": "code",
      "source": [
        "import pandas as pd\n",
        "\n",
        "lst = ['robot'] * 10 + ['human'] * 10\n",
        "random.shuffle(lst)\n",
        "data = pd.DataFrame({'whoAmI': lst})"
      ],
      "metadata": {
        "id": "MxNZgZIjHFjk"
      },
      "execution_count": 10,
      "outputs": []
    },
    {
      "cell_type": "code",
      "source": [
        "one_hot = pd.get_dummies(data['whoAmI'])\n",
        "data = pd.concat([data, one_hot], axis=1)\n",
        "print(data.head())"
      ],
      "metadata": {
        "colab": {
          "base_uri": "https://localhost:8080/"
        },
        "id": "n-oHg7WYHTEY",
        "outputId": "649ad6db-f466-4569-d5e2-6f42c8fea487"
      },
      "execution_count": 9,
      "outputs": [
        {
          "output_type": "stream",
          "name": "stdout",
          "text": [
            "  whoAmI  human  robot\n",
            "0  robot  False   True\n",
            "1  human   True  False\n",
            "2  robot  False   True\n",
            "3  human   True  False\n",
            "4  robot  False   True\n"
          ]
        }
      ]
    }
  ]
}